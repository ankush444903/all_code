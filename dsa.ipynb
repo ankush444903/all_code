{
 "cells": [
  {
   "cell_type": "code",
   "execution_count": 1,
   "metadata": {},
   "outputs": [],
   "source": [
    "# find prime  numers\n",
    "def find_prime_numbers(n):\n",
    "    if n == n[::-1]:\n",
    "      print(\"this is prime numbers\")\n",
    "    else:\n",
    "       print(\"this is not prime numbers\")"
   ]
  },
  {
   "cell_type": "code",
   "execution_count": 2,
   "metadata": {},
   "outputs": [
    {
     "name": "stdout",
     "output_type": "stream",
     "text": [
      "this is prime numbers\n"
     ]
    }
   ],
   "source": [
    "n=\"555\"\n",
    "find_prime_numbers(n)"
   ]
  },
  {
   "cell_type": "code",
   "execution_count": 3,
   "metadata": {},
   "outputs": [
    {
     "name": "stdout",
     "output_type": "stream",
     "text": [
      "The factorial of 555 is 661408560927794670909833167124276990212353194561078966630610091508066518398462938708570165931453818774346806677937487622941296716409901122180791183381615199180133649323135568584492485536333258769584469786383591661922104266566863913614070698138881545530808522346156055053115762262612679476256481322688203567171111038254916285768948868390683387427561794062346854491689633073215348773710363218016157511181863057926134577070731221701301152592821760868454925199903505386017787199554004695300736714548162986647886019771379144075642172619449355885906311490931562018599832173006150698910081357711177369686310362939324425024584999311539904643730800189147272918915911770251276375152459026027462464002063813902395684537655374791000270699823191370607631655257869634515506590089013974314269381678319888713892407305906053693865079154285101747723299382026182512365914527438847783156831674629869733219475045947728356608604070725171727115599864469722301348700056888092787342824689113236014679770929700834913475709726807511726110607658874785711823552896770088837953463376048502815279955957922924689302538415337162205637471098765281762231617571867644711936978426265600000000000000000000000000000000000000000000000000000000000000000000000000000000000000000000000000000000000000000000000000000000000000000\n"
     ]
    }
   ],
   "source": [
    "def factorial(n):\n",
    "  \"\"\"Calculate the factorial of a number.\"\"\"\n",
    "  if n == 0:\n",
    "    return 1\n",
    "  else:\n",
    "    return n * factorial(n-1)\n",
    "\n",
    "# Get input from the user\n",
    "num = int(input(\"Enter a number: \"))\n",
    "\n",
    "# Calculate the factorial\n",
    "fact = factorial(num)\n",
    "\n",
    "# Print the result\n",
    "print(\"The factorial of\", num, \"is\", fact)"
   ]
  },
  {
   "cell_type": "code",
   "execution_count": 41,
   "metadata": {},
   "outputs": [],
   "source": [
    "# calulate factorial of digit\n",
    "def factorial(n):\n",
    "   if n== 0:\n",
    "     return 1\n",
    "   else:\n",
    "     return n*factorial(n-1)\n",
    "   "
   ]
  },
  {
   "cell_type": "code",
   "execution_count": 44,
   "metadata": {},
   "outputs": [
    {
     "data": {
      "text/plain": [
       "120"
      ]
     },
     "execution_count": 44,
     "metadata": {},
     "output_type": "execute_result"
    }
   ],
   "source": [
    "n=5\n",
    "factorial(n)"
   ]
  },
  {
   "cell_type": "code",
   "execution_count": 38,
   "metadata": {},
   "outputs": [
    {
     "name": "stdout",
     "output_type": "stream",
     "text": [
      "The factorial of 5 is 120\n"
     ]
    }
   ],
   "source": [
    "import math\n",
    "\n",
    "number = 5\n",
    "print(f\"The factorial of {number} is {math.factorial(number)}\")"
   ]
  },
  {
   "cell_type": "code",
   "execution_count": 4,
   "metadata": {},
   "outputs": [
    {
     "name": "stdout",
     "output_type": "stream",
     "text": [
      "120\n"
     ]
    }
   ],
   "source": [
    "import math\n",
    "print(math.factorial(5))"
   ]
  },
  {
   "cell_type": "code",
   "execution_count": 25,
   "metadata": {},
   "outputs": [],
   "source": [
    "import pandas as pd"
   ]
  },
  {
   "cell_type": "code",
   "execution_count": 30,
   "metadata": {},
   "outputs": [],
   "source": [
    "def add(x, y):\n",
    "  \"\"\"Add two numbers together.\"\"\"\n",
    "  return x + y"
   ]
  },
  {
   "cell_type": "code",
   "execution_count": 32,
   "metadata": {},
   "outputs": [
    {
     "name": "stdout",
     "output_type": "stream",
     "text": [
      "9\n"
     ]
    }
   ],
   "source": [
    "print(add(4,5))\n"
   ]
  },
  {
   "cell_type": "markdown",
   "metadata": {},
   "source": [
    "*\n",
    "* *\n",
    "* * *\n",
    "* * * *"
   ]
  },
  {
   "cell_type": "code",
   "execution_count": 58,
   "metadata": {},
   "outputs": [
    {
     "name": "stdout",
     "output_type": "stream",
     "text": [
      "**********\n"
     ]
    }
   ],
   "source": [
    "n=5\n",
    "for i in range(n):\n",
    "    for j in range (i):\n",
    "        print(\"*\", end=\"\")\n",
    "print(\"\")\n"
   ]
  },
  {
   "cell_type": "code",
   "execution_count": null,
   "metadata": {},
   "outputs": [],
   "source": [
    "*\n",
    "* *\n",
    "* * * \n",
    "* * * *"
   ]
  },
  {
   "cell_type": "code",
   "execution_count": 18,
   "metadata": {},
   "outputs": [
    {
     "name": "stdout",
     "output_type": "stream",
     "text": [
      "parth is setting my outsite\n"
     ]
    }
   ],
   "source": [
    "# read text file\n",
    "read=open(\"abc.txt\")\n",
    "data=read.read()\n",
    "print(data)"
   ]
  },
  {
   "cell_type": "code",
   "execution_count": 19,
   "metadata": {},
   "outputs": [
    {
     "name": "stdout",
     "output_type": "stream",
     "text": [
      "27\n"
     ]
    }
   ],
   "source": [
    "read=open(\"abc.txt\",'w+')\n",
    "data=read.write(\"parth is setting my outsite\")\n",
    "print(data)"
   ]
  },
  {
   "cell_type": "code",
   "execution_count": 23,
   "metadata": {},
   "outputs": [
    {
     "ename": "NameError",
     "evalue": "name 'endswith' is not defined",
     "output_type": "error",
     "traceback": [
      "\u001b[1;31m---------------------------------------------------------------------------\u001b[0m",
      "\u001b[1;31mNameError\u001b[0m                                 Traceback (most recent call last)",
      "Cell \u001b[1;32mIn[23], line 4\u001b[0m\n\u001b[0;32m      2\u001b[0m \u001b[38;5;28;01mimport\u001b[39;00m \u001b[38;5;21;01mos\u001b[39;00m\n\u001b[0;32m      3\u001b[0m path\u001b[38;5;241m=\u001b[39m\u001b[38;5;124mr\u001b[39m\u001b[38;5;124m\"\u001b[39m\u001b[38;5;124mC:\u001b[39m\u001b[38;5;124m\\\u001b[39m\u001b[38;5;124mUsers\u001b[39m\u001b[38;5;124m\\\u001b[39m\u001b[38;5;124mDD\u001b[39m\u001b[38;5;124m\\\u001b[39m\u001b[38;5;124mDesktop\u001b[39m\u001b[38;5;124m\\\u001b[39m\u001b[38;5;124mvarahi\u001b[39m\u001b[38;5;124m\\\u001b[39m\u001b[38;5;124mDSA\u001b[39m\u001b[38;5;124m\\\u001b[39m\u001b[38;5;124mabc.txt\u001b[39m\u001b[38;5;124m\"\u001b[39m\n\u001b[1;32m----> 4\u001b[0m \u001b[38;5;28mdir\u001b[39m(path, \u001b[43mendswith\u001b[49m(\u001b[38;5;124m'\u001b[39m\u001b[38;5;124m.txt\u001b[39m\u001b[38;5;124m'\u001b[39m))\n",
      "\u001b[1;31mNameError\u001b[0m: name 'endswith' is not defined"
     ]
    }
   ],
   "source": [
    "# print only text file list\n",
    "import os\n",
    "path=r\"C:\\Users\\DD\\Desktop\\varahi\\DSA\\abc.txt\"\n",
    "dir(path, endswith('.txt'))"
   ]
  },
  {
   "cell_type": "code",
   "execution_count": 24,
   "metadata": {},
   "outputs": [],
   "source": [
    "# print numbers of text file prsent particular folders\n",
    "import os\n",
    "def read_text_file(path_of_file):\n",
    "    for i in  os.listdir(path_of_file):\n",
    "        #if i.endswith(\".txt\"):\n",
    "        if i.endswith(\".pdf\"):\n",
    "          print(i)"
   ]
  },
  {
   "cell_type": "code",
   "execution_count": 25,
   "metadata": {},
   "outputs": [
    {
     "name": "stdout",
     "output_type": "stream",
     "text": [
      "RANGE - BD 1600-3500+ (2022) - Antwerp (APF) - 2920 2018 00=2=Model Book=EN.pdf\n",
      "RANGE - OIL BD PLUS (2021) - Antwerp (APF) - 2920 2002=2=Model Book=EN.pdf\n",
      "RANGE - OIL BD PLUS (2021) - Antwerp (APF) - 2920 2003=2=Model Book=EN.pdf\n",
      "RANGE - OIL BD PLUS - Antwerp (APF) - 2029 1758 =2=Model Book=EN.pdf\n",
      "RANGE - OIL BD PLUS - Antwerp (APF) - 2920 1762=3=Model Book=EN.pdf\n",
      "RANGE - OIL BD PLUS - Antwerp (APF) - 2987 1757=2=Model Book=EN.pdf\n",
      "RANGE - OIL BD PLUS - Antwerp (APF) - 2987 1763=2=Model Book=EN.pdf\n",
      "RANGE - OIL BD PLUS - Antwerp (APF) - 2987 1768=2=Model Book=EN.pdf\n",
      "RANGE - OIL CD PLUS - ANTWERP (APF) 2920 1918=2=Model Book=EN.pdf\n",
      "RANGE - OIL CD PLUS - ANTWERP (APF) 2987 1929=2=Model Book=EN.pdf\n",
      "RANGE - OIL CD PLUS - ANTWERP (APF) 2987 1930=2=Model Book=EN.pdf\n",
      "RANGE - OIL XD 2013 - Antewerp (APF) - 2920 1826 00=2=Model Book=EN.pdf\n",
      "RANGE - OIL XD 2013 - Antewerp (APF) - 2920 1841 00=2=Model Book=EN.pdf\n",
      "RANGE - OIL XD 2013 - Antewerp (APF) - 2920 1861 00=2=Model Book=EN.pdf\n"
     ]
    }
   ],
   "source": [
    "#file=read_text_file(r\"C:\\\\Users\\\\DD\\\\Desktop\\\\varahi\\\\DSA\")\n",
    "file=read_text_file(r\"C:\\Users\\DD\\Desktop\\varahi\\AIB PDF\")"
   ]
  },
  {
   "cell_type": "code",
   "execution_count": 26,
   "metadata": {},
   "outputs": [
    {
     "name": "stdout",
     "output_type": "stream",
     "text": [
      "RANGE - BD 1600-3500+ (2022) - Antwerp (APF) - 2920 2018 00=2=Model Book=EN.pdf\n",
      "RANGE - OIL BD PLUS (2021) - Antwerp (APF) - 2920 2002=2=Model Book=EN.pdf\n",
      "RANGE - OIL BD PLUS (2021) - Antwerp (APF) - 2920 2003=2=Model Book=EN.pdf\n",
      "RANGE - OIL BD PLUS - Antwerp (APF) - 2029 1758 =2=Model Book=EN.pdf\n",
      "RANGE - OIL BD PLUS - Antwerp (APF) - 2920 1762=3=Model Book=EN.pdf\n",
      "RANGE - OIL BD PLUS - Antwerp (APF) - 2987 1757=2=Model Book=EN.pdf\n",
      "RANGE - OIL BD PLUS - Antwerp (APF) - 2987 1763=2=Model Book=EN.pdf\n",
      "RANGE - OIL BD PLUS - Antwerp (APF) - 2987 1768=2=Model Book=EN.pdf\n",
      "RANGE - OIL CD PLUS - ANTWERP (APF) 2920 1918=2=Model Book=EN.pdf\n",
      "RANGE - OIL CD PLUS - ANTWERP (APF) 2987 1929=2=Model Book=EN.pdf\n",
      "RANGE - OIL CD PLUS - ANTWERP (APF) 2987 1930=2=Model Book=EN.pdf\n",
      "RANGE - OIL XD 2013 - Antewerp (APF) - 2920 1826 00=2=Model Book=EN.pdf\n",
      "RANGE - OIL XD 2013 - Antewerp (APF) - 2920 1841 00=2=Model Book=EN.pdf\n",
      "RANGE - OIL XD 2013 - Antewerp (APF) - 2920 1861 00=2=Model Book=EN.pdf\n"
     ]
    }
   ],
   "source": [
    "import os\n",
    "path=read_text_file(r\"C:\\Users\\DD\\Desktop\\varahi\\AIB PDF\")\n",
    "for i in os.listdir(path):\n",
    "    if i.endswith(\".pdf\"):\n",
    "       print(i)"
   ]
  },
  {
   "cell_type": "code",
   "execution_count": 31,
   "metadata": {},
   "outputs": [],
   "source": [
    "import os\n",
    "def read_text_file(path):\n",
    "    for i in os.listdir(path):\n",
    "        if i.endswith(\".txt\"):\n",
    "            print(i)"
   ]
  },
  {
   "cell_type": "code",
   "execution_count": 32,
   "metadata": {},
   "outputs": [
    {
     "name": "stdout",
     "output_type": "stream",
     "text": [
      "abc.txt\n",
      "None\n"
     ]
    }
   ],
   "source": [
    "path=read_text_file(r\"C:\\Users\\DD\\Desktop\\varahi\\AIB PDF\")\n",
    "data=read_text_file(path)\n",
    "print(data)"
   ]
  },
  {
   "cell_type": "code",
   "execution_count": 36,
   "metadata": {},
   "outputs": [],
   "source": [
    "# read pdf file\n",
    "import PyPDF2\n",
    "\n",
    "def read_pdf_simple(file_path):\n",
    "    with open(file_path, 'rb') as file:\n",
    "        reader = PyPDF2.PdfReader(file)\n",
    "        text = ''\n",
    "        for page in reader.pages:\n",
    "            text += page.extract_text()\n",
    "        return text\n",
    "\n",
    "# Example usage\n",
    "pdf_path = 'sample.pdf'\n",
    "pdf_content = read_pdf_simple(pdf_path)\n",
    "print(pdf_content)\n"
   ]
  },
  {
   "cell_type": "code",
   "execution_count": null,
   "metadata": {},
   "outputs": [],
   "source": [
    "pdf path: \"C:\\Users\\DD\\Desktop\\varahi\\AIB PDF\\RANGE - BD 1600-3500+ (2022) - Antwerp (APF) - 2920 2018 00=2=Model Book=EN.pdf\""
   ]
  },
  {
   "cell_type": "code",
   "execution_count": 1,
   "metadata": {},
   "outputs": [
    {
     "data": {
      "text/plain": [
       "[1, 2, 3, 4, 5]"
      ]
     },
     "execution_count": 1,
     "metadata": {},
     "output_type": "execute_result"
    }
   ],
   "source": [
    "n=5\n",
    "[1,2,3,4,5]"
   ]
  },
  {
   "cell_type": "code",
   "execution_count": 5,
   "metadata": {},
   "outputs": [
    {
     "name": "stdout",
     "output_type": "stream",
     "text": [
      "[0, 1, 2, 3, 4]\n"
     ]
    }
   ],
   "source": [
    "n=5\n",
    "digit=list(range(n))\n",
    "print(digit)"
   ]
  },
  {
   "cell_type": "markdown",
   "metadata": {},
   "source": [
    "Find the largest and smallest number in a list."
   ]
  },
  {
   "cell_type": "code",
   "execution_count": 6,
   "metadata": {},
   "outputs": [
    {
     "name": "stdout",
     "output_type": "stream",
     "text": [
      "(5, 1)\n"
     ]
    }
   ],
   "source": [
    "def find_largest_smallest(lst):\n",
    "    return max(lst), min(lst)\n",
    "\n",
    "print(find_largest_smallest([1, 2, 3, 4, 5]))  # Output: (5, 1)"
   ]
  },
  {
   "cell_type": "code",
   "execution_count": 11,
   "metadata": {},
   "outputs": [
    {
     "name": "stdout",
     "output_type": "stream",
     "text": [
      "(6.213456, 0.258)\n"
     ]
    }
   ],
   "source": [
    "def lar_sma(n):\n",
    "    return max(n), min(n)\n",
    "\n",
    "print(find_largest_smallest([1,2,3,4,5,5.5,6,6.213456,0.258]))"
   ]
  },
  {
   "cell_type": "markdown",
   "metadata": {},
   "source": [
    "Reverse a list without using reverse() or slicing."
   ]
  },
  {
   "cell_type": "code",
   "execution_count": null,
   "metadata": {},
   "outputs": [],
   "source": [
    "def reverse_list(lst):\n",
    "    return lst[::-1]  # Alternative: Use a loop to reverse\n",
    "\n",
    "print(reverse_list([1, 2, 3, 4, 5]))  # Output: [5, 4, 3, 2, 1]\n"
   ]
  },
  {
   "cell_type": "code",
   "execution_count": 13,
   "metadata": {},
   "outputs": [
    {
     "name": "stdout",
     "output_type": "stream",
     "text": [
      "[5, 4, 3, 2, 1]\n"
     ]
    }
   ],
   "source": [
    "def reversed_list(n):\n",
    "    return n[::-1]\n",
    "print(reversed_list([1,2,3,4,5]) )"
   ]
  },
  {
   "cell_type": "code",
   "execution_count": 17,
   "metadata": {},
   "outputs": [
    {
     "data": {
      "text/plain": [
       "[[1, 2, 3, 4, 5, 6]]"
      ]
     },
     "metadata": {},
     "output_type": "display_data"
    }
   ],
   "source": [
    "a=[1,2,3,4,5,6]\n",
    "a=reversed([a])\n",
    "a=list(a) # <list_reverseiterator at 0x1b721119510> this is open this object\n",
    "display(a)"
   ]
  },
  {
   "cell_type": "markdown",
   "metadata": {},
   "source": [
    "Find the second largest number in a list."
   ]
  },
  {
   "cell_type": "code",
   "execution_count": 18,
   "metadata": {},
   "outputs": [
    {
     "name": "stdout",
     "output_type": "stream",
     "text": [
      "4\n"
     ]
    }
   ],
   "source": [
    "def second_largest(lst):\n",
    "    unique_lst = list(set(lst))\n",
    "    unique_lst.sort()\n",
    "    return unique_lst[-2]\n",
    "\n",
    "print(second_largest([1, 2, 3, 4, 5]))  # Output: 4\n"
   ]
  },
  {
   "cell_type": "code",
   "execution_count": 22,
   "metadata": {},
   "outputs": [
    {
     "name": "stdout",
     "output_type": "stream",
     "text": [
      "4\n"
     ]
    }
   ],
   "source": [
    "def abc(n):\n",
    "    a=list(set(n))\n",
    "    a.sort()\n",
    "    return a[-2]\n",
    "\n",
    "print(abc([1,2,3,4,5]))"
   ]
  },
  {
   "cell_type": "markdown",
   "metadata": {},
   "source": [
    "Remove duplicates from a list."
   ]
  },
  {
   "cell_type": "code",
   "execution_count": 23,
   "metadata": {},
   "outputs": [
    {
     "name": "stdout",
     "output_type": "stream",
     "text": [
      "[1, 2, 3]\n"
     ]
    }
   ],
   "source": [
    "def remove_duplicates(lst):\n",
    "    return list(set(lst))\n",
    "\n",
    "print(remove_duplicates([1, 2, 3, 2, 1]))  # Output: [1, 2, 3]\n"
   ]
  },
  {
   "cell_type": "code",
   "execution_count": 24,
   "metadata": {},
   "outputs": [
    {
     "name": "stdout",
     "output_type": "stream",
     "text": [
      "[0, 1, 2, 4, 5, 6, 7, 8, 9]\n"
     ]
    }
   ],
   "source": [
    "def remove_duplicate_numbers(data):\n",
    "    return list(set(data))\n",
    "\n",
    "print(remove_duplicate_numbers([5,5,4,6,7,8,9,2,1,5,5,0,0]))"
   ]
  },
  {
   "cell_type": "code",
   "execution_count": 46,
   "metadata": {},
   "outputs": [
    {
     "data": {
      "text/plain": [
       "13"
      ]
     },
     "execution_count": 46,
     "metadata": {},
     "output_type": "execute_result"
    }
   ],
   "source": [
    "a=([1,2,3,4,22,5,1,22,66,44,88,99,00])\n",
    "b=[ ]\n",
    "len((a))"
   ]
  },
  {
   "cell_type": "markdown",
   "metadata": {},
   "source": [
    "Count the number of occurrences of each element in a list."
   ]
  },
  {
   "cell_type": "code",
   "execution_count": 4,
   "metadata": {},
   "outputs": [
    {
     "name": "stdout",
     "output_type": "stream",
     "text": [
      "{1: 1, 2: 2, 3: 3}\n"
     ]
    }
   ],
   "source": [
    "from collections import Counter\n",
    "\n",
    "def count_occurrences(lst):\n",
    "    return dict(Counter(lst))\n",
    "\n",
    "print(count_occurrences([1, 2, 2, 3, 3, 3]))  # Output: {1: 1, 2: 2, 3: 3}\n"
   ]
  },
  {
   "cell_type": "code",
   "execution_count": 5,
   "metadata": {},
   "outputs": [
    {
     "name": "stdout",
     "output_type": "stream",
     "text": [
      "{2: 1, 3: 1, 4: 1, 5: 1, 6: 1, 77: 1, 88: 1, 9: 1}\n"
     ]
    }
   ],
   "source": [
    "def count_occurrences(n):\n",
    "    return dict(Counter(n))\n",
    "\n",
    "print(count_occurrences([2,3,4,5,6,77,88,9]))"
   ]
  },
  {
   "cell_type": "markdown",
   "metadata": {},
   "source": [
    "Find the sum of all elements in a list"
   ]
  },
  {
   "cell_type": "code",
   "execution_count": 2,
   "metadata": {},
   "outputs": [
    {
     "name": "stdout",
     "output_type": "stream",
     "text": [
      "15\n"
     ]
    }
   ],
   "source": [
    "def sum_list(lst):\n",
    "    return sum(lst)\n",
    "\n",
    "print(sum_list([1, 2, 3, 4, 5]))  # Output: 15\n"
   ]
  },
  {
   "cell_type": "markdown",
   "metadata": {},
   "source": [
    "Find the average of a list of numbers."
   ]
  },
  {
   "cell_type": "code",
   "execution_count": 19,
   "metadata": {},
   "outputs": [
    {
     "name": "stdout",
     "output_type": "stream",
     "text": [
      "8.0\n"
     ]
    }
   ],
   "source": [
    "def average(lst):\n",
    "    return sum(lst) / len(lst) if lst else 0\n",
    "\n",
    "print(average([1, 2, 3, 4, 5]))  # Output: 3.0\n"
   ]
  },
  {
   "cell_type": "code",
   "execution_count": 18,
   "metadata": {},
   "outputs": [
    {
     "name": "stdout",
     "output_type": "stream",
     "text": [
      "8.0\n"
     ]
    }
   ],
   "source": [
    "def avg(n):\n",
    "    return sum(n)/len(n)\n",
    "\n",
    "#print(avg([5,5,5,5,5,5,5,5,5,5]))\n",
    "print(avg([1,2,3,4,5,6,7,8,9,10,11,12,13,14,15]) )"
   ]
  },
  {
   "cell_type": "markdown",
   "metadata": {},
   "source": [
    "Remove all instances of a specific value from a list."
   ]
  },
  {
   "cell_type": "code",
   "execution_count": 20,
   "metadata": {},
   "outputs": [
    {
     "name": "stdout",
     "output_type": "stream",
     "text": [
      "[1, 3]\n"
     ]
    }
   ],
   "source": [
    "def remove_value(lst, value):\n",
    "    return [x for x in lst if x != value]\n",
    "\n",
    "print(remove_value([1, 2, 2, 3], 2))  # Output: [1, 3]\n"
   ]
  },
  {
   "cell_type": "markdown",
   "metadata": {},
   "source": [
    "Flatten a list of lists."
   ]
  },
  {
   "cell_type": "code",
   "execution_count": 29,
   "metadata": {},
   "outputs": [
    {
     "name": "stdout",
     "output_type": "stream",
     "text": [
      "[1, 2, 3, 4, 5]\n"
     ]
    }
   ],
   "source": [
    "def flatten(lst):\n",
    "    return [item for sublist in lst for item in sublist]\n",
    "\n",
    "print(flatten([[1, 2], [3, 4], [5]]))  # Output: [1, 2, 3, 4, 5]\n"
   ]
  },
  {
   "cell_type": "code",
   "execution_count": 31,
   "metadata": {},
   "outputs": [],
   "source": [
    "input=[[1,2],[3,4],[5],[4,5],[0.1]] # this is input data\n",
    "# i want output this data like that\n",
    "output=[1,2,3,4,5,4,5,0.1]\n"
   ]
  },
  {
   "cell_type": "code",
   "execution_count": 34,
   "metadata": {},
   "outputs": [
    {
     "ename": "NameError",
     "evalue": "name 'lst' is not defined",
     "output_type": "error",
     "traceback": [
      "\u001b[1;31m---------------------------------------------------------------------------\u001b[0m",
      "\u001b[1;31mNameError\u001b[0m                                 Traceback (most recent call last)",
      "Cell \u001b[1;32mIn[34], line 4\u001b[0m\n\u001b[0;32m      1\u001b[0m \u001b[38;5;28;01mdef\u001b[39;00m \u001b[38;5;21mdata\u001b[39m(n):\n\u001b[0;32m      2\u001b[0m     \u001b[38;5;28;01mreturn\u001b[39;00m [item \u001b[38;5;28;01mfor\u001b[39;00m sublist \u001b[38;5;129;01min\u001b[39;00m lst \u001b[38;5;28;01mfor\u001b[39;00m item \u001b[38;5;129;01min\u001b[39;00m sublist]\n\u001b[1;32m----> 4\u001b[0m \u001b[38;5;28mprint\u001b[39m(\u001b[43mdata\u001b[49m\u001b[43m(\u001b[49m\u001b[43m[\u001b[49m\u001b[43m[\u001b[49m\u001b[38;5;241;43m1\u001b[39;49m\u001b[43m,\u001b[49m\u001b[38;5;241;43m2\u001b[39;49m\u001b[43m]\u001b[49m\u001b[43m,\u001b[49m\u001b[43m[\u001b[49m\u001b[38;5;241;43m3\u001b[39;49m\u001b[43m,\u001b[49m\u001b[38;5;241;43m4\u001b[39;49m\u001b[43m]\u001b[49m\u001b[43m,\u001b[49m\u001b[43m[\u001b[49m\u001b[38;5;241;43m5\u001b[39;49m\u001b[43m]\u001b[49m\u001b[43m,\u001b[49m\u001b[43m[\u001b[49m\u001b[38;5;241;43m4\u001b[39;49m\u001b[43m,\u001b[49m\u001b[38;5;241;43m5\u001b[39;49m\u001b[43m]\u001b[49m\u001b[43m]\u001b[49m\u001b[43m)\u001b[49m)\n",
      "Cell \u001b[1;32mIn[34], line 2\u001b[0m, in \u001b[0;36mdata\u001b[1;34m(n)\u001b[0m\n\u001b[0;32m      1\u001b[0m \u001b[38;5;28;01mdef\u001b[39;00m \u001b[38;5;21mdata\u001b[39m(n):\n\u001b[1;32m----> 2\u001b[0m     \u001b[38;5;28;01mreturn\u001b[39;00m [item \u001b[38;5;28;01mfor\u001b[39;00m sublist \u001b[38;5;129;01min\u001b[39;00m \u001b[43mlst\u001b[49m \u001b[38;5;28;01mfor\u001b[39;00m item \u001b[38;5;129;01min\u001b[39;00m sublist]\n",
      "\u001b[1;31mNameError\u001b[0m: name 'lst' is not defined"
     ]
    }
   ],
   "source": [
    "def data(n):\n",
    "    return [item for sublist in lst for item in sublist]\n",
    "\n",
    "print(data([[1,2],[3,4],[5],[4,5]]))"
   ]
  },
  {
   "cell_type": "code",
   "execution_count": null,
   "metadata": {},
   "outputs": [],
   "source": []
  }
 ],
 "metadata": {
  "kernelspec": {
   "display_name": "Python 3",
   "language": "python",
   "name": "python3"
  },
  "language_info": {
   "codemirror_mode": {
    "name": "ipython",
    "version": 3
   },
   "file_extension": ".py",
   "mimetype": "text/x-python",
   "name": "python",
   "nbconvert_exporter": "python",
   "pygments_lexer": "ipython3",
   "version": "3.10.14"
  }
 },
 "nbformat": 4,
 "nbformat_minor": 2
}
